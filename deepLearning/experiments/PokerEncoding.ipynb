{
 "cells": [
  {
   "cell_type": "markdown",
   "metadata": {},
   "source": [
    "# NEW EXPERIMENTS:\n",
    "We need to explore attention\n",
    "\n",
    "We need to make a better heuristic for betting\n",
    "\n",
    "We need to try encoding pot odds through ranked hands and number of outs/possible hands that beat mine given board cards etc.\n"
   ]
  },
  {
   "cell_type": "code",
   "execution_count": 1,
   "metadata": {},
   "outputs": [],
   "source": [
    "%load_ext autoreload\n",
    "%autoreload 2"
   ]
  },
  {
   "cell_type": "code",
   "execution_count": 2,
   "metadata": {},
   "outputs": [],
   "source": [
    "import os\n",
    "os.chdir('../../')"
   ]
  },
  {
   "cell_type": "code",
   "execution_count": 3,
   "metadata": {},
   "outputs": [
    {
     "data": {
      "text/plain": [
       "'/home/zubin/Documents/poker-ml'"
      ]
     },
     "execution_count": 3,
     "metadata": {},
     "output_type": "execute_result"
    }
   ],
   "source": [
    "os.getcwd()"
   ]
  },
  {
   "cell_type": "code",
   "execution_count": 4,
   "metadata": {},
   "outputs": [],
   "source": [
    "from deepLearning import utils"
   ]
  },
  {
   "cell_type": "code",
   "execution_count": 11,
   "metadata": {},
   "outputs": [],
   "source": [
    "import torch\n",
    "import torch.nn as nn\n",
    "import pickle\n",
    "from tqdm.notebook import tqdm\n",
    "from deepLearning.utils.treys import Card, Evaluator"
   ]
  },
  {
   "cell_type": "markdown",
   "metadata": {},
   "source": [
    "## Markers for good poker hands that we can encode manually and pass through an LSTM network"
   ]
  },
  {
   "cell_type": "markdown",
   "metadata": {},
   "source": [
    "#### Outs:\n",
    "Our goal here is to calculate the number of outs for a given hand in poker. We want to see how likely we are to win the game"
   ]
  },
  {
   "cell_type": "code",
   "execution_count": 17,
   "metadata": {},
   "outputs": [
    {
     "name": "stdout",
     "output_type": "stream",
     "text": [
      "Player1  [Q♣],[K♦]  \n",
      "Player2  [A♥],[7♣] \n",
      "Board  [2♦],[A♦],[T♠],[9♣],[8♠] \n",
      "Player1 has a ranked hand of: 6194\n",
      "Player1 has a ranked hand of: 3462\n"
     ]
    }
   ],
   "source": [
    "# we can make a treys game to evaluate the hands\n",
    "game = [utils.make_treys(i) for i in utils.make_heads_up()]\n",
    "print(\"Player1 {} \\nPlayer2 {}\\nBoard {}\".format(Card.print_pretty_cards(game[0]), Card.print_pretty_cards(game[1]), Card.print_pretty_cards(game[2])))\n",
    "print(\"Player1 has a ranked hand of: {}\".format(Evaluator().evaluate(game[0],game[2])))\n",
    "print(\"Player1 has a ranked hand of: {}\".format(Evaluator().evaluate(game[1],game[2])))"
   ]
  },
  {
   "cell_type": "code",
   "execution_count": 18,
   "metadata": {},
   "outputs": [
    {
     "data": {
      "text/plain": [
       "' [Q♠],[Q♠] '"
      ]
     },
     "execution_count": 18,
     "metadata": {},
     "output_type": "execute_result"
    }
   ],
   "source": [
    "Card.print_pretty_cards([Card.new('Qs'), Card.new('Qs')])"
   ]
  },
  {
   "cell_type": "code",
   "execution_count": 19,
   "metadata": {},
   "outputs": [],
   "source": [
    "e = Evaluator()"
   ]
  },
  {
   "cell_type": "code",
   "execution_count": 20,
   "metadata": {},
   "outputs": [
    {
     "name": "stdout",
     "output_type": "stream",
     "text": [
      "========== FLOP ==========\n",
      "Player 1 hand = High Card, percentage rank among all hands = 0.16898954703832758\n",
      "Player 2 hand = Pair, percentage rank among all hands = 0.5337711069418387\n",
      "Player 2 hand is currently winning.\n",
      "\n",
      "========== TURN ==========\n",
      "Player 1 hand = High Card, percentage rank among all hands = 0.16992763334226746\n",
      "Player 2 hand = Pair, percentage rank among all hands = 0.5359153042079872\n",
      "Player 2 hand is currently winning.\n",
      "\n",
      "========== RIVER ==========\n",
      "Player 1 hand = High Card, percentage rank among all hands = 0.16992763334226746\n",
      "Player 2 hand = Pair, percentage rank among all hands = 0.5360493165371214\n",
      "\n",
      "========== HAND OVER ==========\n",
      "Player 2 is the winner with a Pair\n",
      "\n"
     ]
    }
   ],
   "source": [
    "e.hand_summary(game[2], [game[0],game[1]])"
   ]
  },
  {
   "cell_type": "code",
   "execution_count": 37,
   "metadata": {},
   "outputs": [],
   "source": [
    "# lets grab this percentage rannk among all hands:\n",
    "player = [Card.new('Js'), Card.new('Qc'), Card.new('Qh'), Card.new('Ks'), Card.new('Kd')]"
   ]
  },
  {
   "cell_type": "code",
   "execution_count": 41,
   "metadata": {},
   "outputs": [
    {
     "data": {
      "text/plain": [
       "dict_keys([5, 6, 7])"
      ]
     },
     "execution_count": 41,
     "metadata": {},
     "output_type": "execute_result"
    }
   ],
   "source": [
    "e.hand_size_map.keys()"
   ]
  },
  {
   "cell_type": "code",
   "execution_count": 49,
   "metadata": {},
   "outputs": [
    {
     "data": {
      "text/plain": [
       "1599"
      ]
     },
     "execution_count": 49,
     "metadata": {},
     "output_type": "execute_result"
    }
   ],
   "source": [
    "e.table.MAX_FLUSH"
   ]
  },
  {
   "cell_type": "code",
   "execution_count": 27,
   "metadata": {},
   "outputs": [
    {
     "data": {
      "text/plain": [
       "6559"
      ]
     },
     "execution_count": 27,
     "metadata": {},
     "output_type": "execute_result"
    }
   ],
   "source": [
    "e.evaluate(game[2], [])"
   ]
  },
  {
   "cell_type": "code",
   "execution_count": 25,
   "metadata": {},
   "outputs": [
    {
     "data": {
      "text/plain": [
       "7462"
      ]
     },
     "execution_count": 25,
     "metadata": {},
     "output_type": "execute_result"
    }
   ],
   "source": []
  },
  {
   "cell_type": "code",
   "execution_count": null,
   "metadata": {},
   "outputs": [],
   "source": []
  }
 ],
 "metadata": {
  "kernelspec": {
   "display_name": "Python 3",
   "language": "python",
   "name": "python3"
  },
  "language_info": {
   "codemirror_mode": {
    "name": "ipython",
    "version": 3
   },
   "file_extension": ".py",
   "mimetype": "text/x-python",
   "name": "python",
   "nbconvert_exporter": "python",
   "pygments_lexer": "ipython3",
   "version": "3.8.6"
  }
 },
 "nbformat": 4,
 "nbformat_minor": 4
}
