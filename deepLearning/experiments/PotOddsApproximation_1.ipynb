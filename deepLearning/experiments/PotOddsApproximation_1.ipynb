{
 "cells": [
  {
   "cell_type": "markdown",
   "metadata": {},
   "source": [
    "# Here we attempt to approximate pot odds using a neural network\n",
    "\n",
    "### The first stage is to get set-up with the codebase:"
   ]
  },
  {
   "cell_type": "markdown",
   "metadata": {},
   "source": [
    "## Familiarizing myself with the codebase:"
   ]
  },
  {
   "cell_type": "code",
   "execution_count": 1,
   "metadata": {},
   "outputs": [],
   "source": [
    "import os\n",
    "os.chdir('../../')"
   ]
  },
  {
   "cell_type": "code",
   "execution_count": 2,
   "metadata": {},
   "outputs": [],
   "source": [
    "import torch\n",
    "import time"
   ]
  },
  {
   "cell_type": "code",
   "execution_count": 3,
   "metadata": {},
   "outputs": [],
   "source": [
    "from utils import *"
   ]
  },
  {
   "cell_type": "code",
   "execution_count": 11,
   "metadata": {},
   "outputs": [],
   "source": [
    "deck = make_deck()"
   ]
  },
  {
   "cell_type": "code",
   "execution_count": 12,
   "metadata": {},
   "outputs": [
    {
     "data": {
      "text/plain": [
       "['9h',\n",
       " 'Qh',\n",
       " '4h',\n",
       " '7h',\n",
       " '2h',\n",
       " 'Ad',\n",
       " 'Qs',\n",
       " '6c',\n",
       " '9s',\n",
       " 'Ks',\n",
       " 'Js',\n",
       " 'Ac',\n",
       " 'Ah',\n",
       " '2c',\n",
       " 'Ts',\n",
       " '8d',\n",
       " '5s',\n",
       " 'Kh',\n",
       " 'Kc',\n",
       " '3d',\n",
       " '3h',\n",
       " 'Jh',\n",
       " '7s',\n",
       " '3s',\n",
       " 'As',\n",
       " 'Th',\n",
       " 'Jd',\n",
       " 'Qc',\n",
       " 'Kd',\n",
       " '9d',\n",
       " '8h',\n",
       " '8s',\n",
       " '4d',\n",
       " '7c',\n",
       " 'Tc',\n",
       " 'Jc',\n",
       " '4s',\n",
       " '3c',\n",
       " '6h',\n",
       " '2s',\n",
       " '8c',\n",
       " '6d',\n",
       " '4c',\n",
       " '5c',\n",
       " '5d',\n",
       " '6s',\n",
       " '7d',\n",
       " '9c',\n",
       " '2d',\n",
       " 'Td',\n",
       " 'Qd',\n",
       " '5h']"
      ]
     },
     "execution_count": 12,
     "metadata": {},
     "output_type": "execute_result"
    }
   ],
   "source": [
    "deck"
   ]
  },
  {
   "cell_type": "code",
   "execution_count": 13,
   "metadata": {},
   "outputs": [],
   "source": [
    "def make_card_dict():\n",
    "    deck = [c+s for c in CARDS for s in SUITS]\n",
    "    return {deck[i]:i for i in range(len(deck))}"
   ]
  },
  {
   "cell_type": "code",
   "execution_count": 14,
   "metadata": {},
   "outputs": [],
   "source": [
    "card_dict = make_card_dict()"
   ]
  },
  {
   "cell_type": "code",
   "execution_count": 15,
   "metadata": {},
   "outputs": [],
   "source": [
    "def one_hot_cards(cards, card_dict=card_dict, device='cpu', dtype=torch.float):\n",
    "    \"\"\"\n",
    "    cards is an iterable of 2 char string that shows the number and then suit\n",
    "    We're going to one hot encode these cards in a 52 long vector\n",
    "    \"\"\"\n",
    "    ret = torch.zeros(52, dtype = dtype).to(device)\n",
    "    for card in cards:\n",
    "        ret[card_dict[card]] = 1\n",
    "    return ret"
   ]
  },
  {
   "cell_type": "code",
   "execution_count": 16,
   "metadata": {},
   "outputs": [
    {
     "data": {
      "text/plain": [
       "tensor(24)"
      ]
     },
     "execution_count": 16,
     "metadata": {},
     "output_type": "execute_result"
    }
   ],
   "source": [
    "one_hot_cards(['8h'], card_dict).argmax() # should be 24"
   ]
  },
  {
   "cell_type": "markdown",
   "metadata": {},
   "source": [
    "## Naive training:\n",
    "We're going to attempt to determine a likelihood of winning a heads up hand based on pocket hands through the following method.\n",
    "\n",
    "We generate two hands and draw 5 board cards. We then determine which hand wins and assign that combination a 1 for win, and the other a 0 for loss.\n",
    "\n",
    "We can generate a massive (1-0 balanced) training set with the above method.\n",
    "\n",
    "Our network gets the sum of two one hot encoded vectors for our cards (basically a 2 hot encoded vector of dim 52)\n",
    "\n",
    "We can use the treys evaluator to score our hands"
   ]
  },
  {
   "cell_type": "code",
   "execution_count": 4,
   "metadata": {},
   "outputs": [],
   "source": [
    "import torch.nn as nn\n",
    "import treys\n",
    "from treys import Evaluator\n",
    "from treys import Card"
   ]
  },
  {
   "cell_type": "code",
   "execution_count": 5,
   "metadata": {},
   "outputs": [],
   "source": [
    "class simpleNet(nn.Module):\n",
    "    def __init__(self):\n",
    "        super().__init__()\n",
    "        self.mod = nn.Sequential(\n",
    "            nn.Linear(52, 100),\n",
    "            nn.ReLU(),\n",
    "            nn.Linear(100, 500),\n",
    "            nn.ReLU(),\n",
    "            nn.Linear(500, 1000),\n",
    "            nn.ReLU(),\n",
    "            nn.Linear(1000, 1), # output layer weighted sum\n",
    "            nn.Sigmoid() # if we make sigmoids we should get log_probs on the other end\n",
    "        )\n",
    "        self.params = self.mod.parameters()\n",
    "    def forward(self, X):\n",
    "        \"\"\"\n",
    "        X is a 52 dimensional vector (should be 2-hot encoded)\n",
    "        \"\"\"\n",
    "        return self.mod(X)"
   ]
  },
  {
   "cell_type": "markdown",
   "metadata": {},
   "source": [
    "#### Now we can begin to make the training set"
   ]
  },
  {
   "cell_type": "code",
   "execution_count": 19,
   "metadata": {},
   "outputs": [],
   "source": [
    "def make_heads_up():\n",
    "    \"\"\"\n",
    "    Makes a heads up game\n",
    "    Each hand and board is a list of 2 char strings encoding the cards\n",
    "    Returns: (player_1_hand, player_2_hand, board)\n",
    "    \"\"\"\n",
    "    deck = make_deck()\n",
    "    return (deck[:2], deck[2:4], deck[4:9])\n",
    "    \n",
    "def make_treys(cards):\n",
    "    \"\"\"\n",
    "    Converts iterable of cards encoded as '2h' to treys.Card.new() objects\n",
    "    \"\"\"\n",
    "    return [Card.new(c) for c in cards]\n",
    "\n",
    "def score_heads_up(p1, p2, board):\n",
    "    \"\"\"\n",
    "    p1, p2, board are iterables of 2char encoded cards\n",
    "    returns tuple of 1 if player wins and 0 of player loses # ties are both 1\n",
    "    \"\"\"\n",
    "    player1 = make_treys(p1)\n",
    "    player2 = make_treys(p2)\n",
    "    b = make_treys(board)\n",
    "    e = Evaluator()\n",
    "    # as ugly as the below three lines are they're the fastest method of doing this IMO.\n",
    "    s1 = e.evaluate(player1, b)\n",
    "    s2 = e.evaluate(player2, b)\n",
    "    return (int(s1 <= s2), int(s1 >= s2))"
   ]
  },
  {
   "cell_type": "code",
   "execution_count": 20,
   "metadata": {},
   "outputs": [],
   "source": [
    "p1,p2,board = make_heads_up()"
   ]
  },
  {
   "cell_type": "code",
   "execution_count": 21,
   "metadata": {},
   "outputs": [
    {
     "name": "stdout",
     "output_type": "stream",
     "text": [
      "['Qh', '6c']\n",
      "['5d', '7s']\n",
      "['8c', '9s', '9c', '4d', '6s']\n"
     ]
    }
   ],
   "source": [
    "print(p1)\n",
    "print(p2)\n",
    "print(board)"
   ]
  },
  {
   "cell_type": "code",
   "execution_count": 22,
   "metadata": {},
   "outputs": [
    {
     "data": {
      "text/plain": [
       "(0, 1)"
      ]
     },
     "execution_count": 22,
     "metadata": {},
     "output_type": "execute_result"
    }
   ],
   "source": [
    "score_heads_up(p1, p2, board)"
   ]
  },
  {
   "cell_type": "code",
   "execution_count": 23,
   "metadata": {},
   "outputs": [],
   "source": [
    "def make_training_set(num_train = 1000, device = 'cpu', dtype=torch.float):\n",
    "    X = []\n",
    "    y = []\n",
    "    t = {'device':device, 'dtype':dtype}\n",
    "    for i in range(num_train//2): # we do //2 because we encode both sides of the game\n",
    "        p1, p2, board = make_heads_up()\n",
    "        s1, s2 = score_heads_up(p1, p2, board)\n",
    "        X.append(one_hot_cards(p1, **t))\n",
    "        X.append(one_hot_cards(p2, **t))\n",
    "        y.append(torch.tensor(s1, **t))\n",
    "        y.append(torch.tensor(s2, **t))\n",
    "        \n",
    "    return torch.stack(X), torch.stack(y).unsqueeze(1)"
   ]
  },
  {
   "cell_type": "code",
   "execution_count": 24,
   "metadata": {},
   "outputs": [],
   "source": [
    "X, y = make_training_set(device='cuda')"
   ]
  },
  {
   "cell_type": "code",
   "execution_count": 25,
   "metadata": {},
   "outputs": [
    {
     "data": {
      "text/plain": [
       "torch.Size([1000, 52])"
      ]
     },
     "execution_count": 25,
     "metadata": {},
     "output_type": "execute_result"
    }
   ],
   "source": [
    "X.shape"
   ]
  },
  {
   "cell_type": "code",
   "execution_count": 26,
   "metadata": {},
   "outputs": [
    {
     "data": {
      "text/plain": [
       "torch.Size([1000, 1])"
      ]
     },
     "execution_count": 26,
     "metadata": {},
     "output_type": "execute_result"
    }
   ],
   "source": [
    "y.shape"
   ]
  },
  {
   "cell_type": "code",
   "execution_count": 27,
   "metadata": {},
   "outputs": [],
   "source": [
    "model = simpleNet().to('cuda')"
   ]
  },
  {
   "cell_type": "code",
   "execution_count": 39,
   "metadata": {},
   "outputs": [],
   "source": [
    "def train_model(X, y, model, epochs = 10, verbose=100):\n",
    "    \"\"\"\n",
    "    Trains a model with MSE and Adagrad\n",
    "    \n",
    "    Inputs:\n",
    "    X: training tensor of shape (N,52)\n",
    "    y: target tensor of shape (N,1)\n",
    "    model: a torch.nn.Module model\n",
    "    epochs: number of epochs to train\n",
    "    verbose: iterations of epochs to print out (1 for all, False for none)\n",
    "    \"\"\"\n",
    "    optimizer = torch.optim.Adagrad(model.parameters())\n",
    "    criterion = nn.MSELoss()\n",
    "    \n",
    "    #forward pass:\n",
    "    for e in range(epochs):\n",
    "        scores = model(X)\n",
    "        loss = criterion(scores, y)\n",
    "        with torch.no_grad():\n",
    "            optimizer.zero_grad()\n",
    "            loss.backward()\n",
    "            optimizer.step()\n",
    "            if verbose and e%verbose == 0:\n",
    "                print(\"epoch: {} loss: {:.4f}\".format(e,loss.item()))\n",
    "                \n",
    "def evaluate_model(X, y, model):\n",
    "    with torch.no_grad():\n",
    "        scores = model(X)\n",
    "        #threshold for predictions\n",
    "        scores[scores < 0.5] = 0\n",
    "        scores[scores >= 0.5] = 1\n",
    "        return (scores == y).sum().item()/y.shape[0]"
   ]
  },
  {
   "cell_type": "code",
   "execution_count": 40,
   "metadata": {},
   "outputs": [
    {
     "name": "stdout",
     "output_type": "stream",
     "text": [
      "epoch: 0 loss: 0.2518\n",
      "epoch: 1 loss: 0.3272\n",
      "epoch: 2 loss: 0.2365\n",
      "epoch: 3 loss: 0.2313\n",
      "epoch: 4 loss: 0.2238\n",
      "epoch: 5 loss: 0.2149\n",
      "epoch: 6 loss: 0.2114\n",
      "epoch: 7 loss: 0.2629\n",
      "epoch: 8 loss: 0.2165\n",
      "epoch: 9 loss: 0.2136\n"
     ]
    }
   ],
   "source": [
    "train_model(X, y, model, verbose=True)"
   ]
  },
  {
   "cell_type": "code",
   "execution_count": 41,
   "metadata": {},
   "outputs": [],
   "source": [
    "p1, p2, board = make_heads_up()"
   ]
  },
  {
   "cell_type": "code",
   "execution_count": 42,
   "metadata": {},
   "outputs": [
    {
     "name": "stdout",
     "output_type": "stream",
     "text": [
      "['8c', 'Kc']\n",
      "['2d', '3c']\n",
      "['4s', 'Td', '3s', 'Th', '2c']\n"
     ]
    }
   ],
   "source": [
    "print(p1)\n",
    "print(p2)\n",
    "print(board)"
   ]
  },
  {
   "cell_type": "code",
   "execution_count": 43,
   "metadata": {},
   "outputs": [
    {
     "data": {
      "text/plain": [
       "tensor([0.5960], device='cuda:0', grad_fn=<SigmoidBackward>)"
      ]
     },
     "execution_count": 43,
     "metadata": {},
     "output_type": "execute_result"
    }
   ],
   "source": [
    "model(one_hot_cards(p1, device='cuda'))"
   ]
  },
  {
   "cell_type": "code",
   "execution_count": 44,
   "metadata": {},
   "outputs": [
    {
     "data": {
      "text/plain": [
       "tensor([0.2861], device='cuda:0', grad_fn=<SigmoidBackward>)"
      ]
     },
     "execution_count": 44,
     "metadata": {},
     "output_type": "execute_result"
    }
   ],
   "source": [
    "model(one_hot_cards(p2, device='cuda'))"
   ]
  },
  {
   "cell_type": "markdown",
   "metadata": {},
   "source": [
    "## Now that we have a naive training method lets train it on a much larger set:"
   ]
  },
  {
   "cell_type": "code",
   "execution_count": 45,
   "metadata": {},
   "outputs": [],
   "source": [
    "X, y = make_training_set(num_train = 10000, device='cuda')\n",
    "model = simpleNet().to('cuda')"
   ]
  },
  {
   "cell_type": "code",
   "execution_count": 49,
   "metadata": {},
   "outputs": [
    {
     "name": "stdout",
     "output_type": "stream",
     "text": [
      "epoch: 0 loss: 0.2114\n",
      "epoch: 200 loss: 0.2100\n",
      "epoch: 400 loss: 0.2098\n",
      "epoch: 600 loss: 0.2098\n",
      "epoch: 800 loss: 0.2098\n"
     ]
    }
   ],
   "source": [
    "train_model(X, y, model, epochs=1000, verbose = 200)"
   ]
  },
  {
   "cell_type": "code",
   "execution_count": 50,
   "metadata": {},
   "outputs": [
    {
     "name": "stdout",
     "output_type": "stream",
     "text": [
      "Correct: 52.50%\n"
     ]
    }
   ],
   "source": [
    "X_test, y_test = make_training_set(2000, device='cuda')\n",
    "print(\"Correct: {:.2f}%\".format(100*evaluate_model(X_test, y_test, model)))"
   ]
  },
  {
   "cell_type": "code",
   "execution_count": null,
   "metadata": {},
   "outputs": [],
   "source": []
  }
 ],
 "metadata": {
  "kernelspec": {
   "display_name": "Python 3",
   "language": "python",
   "name": "python3"
  },
  "language_info": {
   "codemirror_mode": {
    "name": "ipython",
    "version": 3
   },
   "file_extension": ".py",
   "mimetype": "text/x-python",
   "name": "python",
   "nbconvert_exporter": "python",
   "pygments_lexer": "ipython3",
   "version": "3.8.6"
  }
 },
 "nbformat": 4,
 "nbformat_minor": 4
}
