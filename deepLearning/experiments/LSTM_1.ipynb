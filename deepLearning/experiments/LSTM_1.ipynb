{
 "cells": [
  {
   "cell_type": "code",
   "execution_count": 1,
   "metadata": {},
   "outputs": [],
   "source": [
    "%load_ext autoreload\n",
    "%autoreload 2"
   ]
  },
  {
   "cell_type": "code",
   "execution_count": 2,
   "metadata": {},
   "outputs": [],
   "source": [
    "import os\n",
    "os.chdir('../../')"
   ]
  },
  {
   "cell_type": "code",
   "execution_count": 3,
   "metadata": {},
   "outputs": [],
   "source": [
    "from deepLearning import utils"
   ]
  },
  {
   "cell_type": "code",
   "execution_count": 4,
   "metadata": {},
   "outputs": [],
   "source": [
    "import torch\n",
    "import torch.nn as nn\n",
    "import treys\n",
    "from treys import Evaluator\n",
    "from treys import Card"
   ]
  },
  {
   "cell_type": "markdown",
   "metadata": {},
   "source": [
    "# LSTM poker bot"
   ]
  },
  {
   "cell_type": "markdown",
   "metadata": {},
   "source": [
    "Okay so what are we trying to accomplish here.\n",
    "We want to build a naive LSTM poker bot. We need to do three things:\n",
    "\n",
    "- [x] Encode a poker game in a meaningful way\n",
    "\n",
    "- [x] Develop a useful loss metric for games\n",
    "\n",
    "- [x] Test many-to-many or many-to-one models for games\n",
    "\n",
    "Note: the above checkboxes illustrate a CURSORY look at these topics. We will continue to explore them in future games."
   ]
  },
  {
   "cell_type": "markdown",
   "metadata": {},
   "source": [
    "## Encoding a poker game:\n",
    "\n",
    "We're going to approach this by just encoding the cards at each step.\n",
    "There are 4 discrete betting stages that are worth keeping track of in poker:\n",
    "- Pre-Flop\n",
    "- Flop\n",
    "- Turn\n",
    "- River\n",
    "\n",
    "We'll create a `1x4x52` dim tensor to encode all the information in each stage for in one poker game.\n",
    "\n",
    "This way we can create a training dataframe of `N` examples with shape: `Nx4x52`\n",
    "Where `4` again represents the discrete betting stages and `52` is the one hot encoded cards.\n"
   ]
  },
  {
   "cell_type": "code",
   "execution_count": 5,
   "metadata": {},
   "outputs": [],
   "source": [
    "def make_staged_games(num_games, device = 'cpu', dtype = torch.float, verbose = False):\n",
    "    to = {'device': device, 'dtype':dtype}\n",
    "    X = []\n",
    "    y = []\n",
    "    for g in range(num_games//2):\n",
    "        start_time = time.time()\n",
    "        if g % verbose == 0:\n",
    "            print(\"Completed {} in {:2f} seconds\".format(verbose, time.time()-start_time))\n",
    "        p1, p2, board = utils.make_heads_up()\n",
    "        g1 = torch.stack(\n",
    "            [\n",
    "                utils.one_hot_cards(p1, **to), \n",
    "                utils.one_hot_cards(board[:3], **to), \n",
    "                utils.one_hot_cards([board[3]], **to),\n",
    "                utils.one_hot_cards([board[4]], **to)\n",
    "            ]\n",
    "        )\n",
    "        g2 = torch.stack(\n",
    "            [\n",
    "                utils.one_hot_cards(p2, **to), \n",
    "                utils.one_hot_cards(board[:3], **to), \n",
    "                utils.one_hot_cards([board[3]], **to),\n",
    "                utils.one_hot_cards([board[4]], **to)\n",
    "            ]\n",
    "        )\n",
    "        X.append(g1)\n",
    "        X.append(g2)\n",
    "        \n",
    "        s1, s2 = utils.score_heads_up(p1, p2, board)\n",
    "        \n",
    "        y.append(torch.tensor(s2, **to)) # if p1 wins append 0 => s2 is 0\n",
    "        y.append(torch.tensor(s1, **to)) # if p1 loses append 1 => s1 is 1\n",
    "        \n",
    "    X = torch.stack(X)\n",
    "    y = torch.stack(y)\n",
    "    \n",
    "    return X, y.to(torch.long)"
   ]
  },
  {
   "cell_type": "markdown",
   "metadata": {},
   "source": [
    "## Many to One architecture experiments:\n",
    "\n",
    "We're going to try to use a Many-to-one LSTM to predict our likelihood of winning a hand.\n",
    "\n",
    "Our approach is as follows:\n",
    "- LSTM with a hidden dimension of 300 (arbitrary)\n",
    "- Output transformation with the following properties:\n",
    "    - Linear layer with input 300 and output 2\n",
    "    - Softmax for thresholding \n",
    "    - First dim of output is likelihood for us to win\n",
    "    - Second dim is likelihood for opponents to win\n",
    "    - This allows us to use `CrossEntropyLoss` as a penalty mechanism (Note we'll have to skip the softmax when we use `CrossEntropyLoss`)\n",
    "    "
   ]
  },
  {
   "cell_type": "code",
   "execution_count": 7,
   "metadata": {},
   "outputs": [],
   "source": [
    "class simpleLSTM(nn.Module):\n",
    "    \"\"\"\n",
    "    A simpleLSTM for poker\n",
    "    \"\"\"\n",
    "    \n",
    "    def __init__(self, hidden_size = 300):\n",
    "        \"\"\"\n",
    "        hidden_size: size of hidden dimension of LSTM\n",
    "        \"\"\"\n",
    "        super().__init__()\n",
    "        self.hidden_size = hidden_size\n",
    "        self.lstm = nn.LSTMCell(52, hidden_size)\n",
    "        self.output = nn.Linear(hidden_size, 2)\n",
    "        self.squash = nn.Sigmoid()\n",
    "#         self.params = []\n",
    "#         self.params += list(self.lstm.parameters()) + list(self.output.parameters()) + list(self.squash.parameters())\n",
    "        \n",
    "    def forward(self, X, squash = False):\n",
    "        \"\"\"\n",
    "        Forward pass of the LSTM\n",
    "        X: input of shape Nx4x52\n",
    "        squash: whether or not to squash using softmax\n",
    "        \n",
    "        Returns:\n",
    "            tensor of shape Nx2 representing likelihood to win and likelihood for opponent to win.\n",
    "            IF squash==True values represent probabilities.\n",
    "        \"\"\"\n",
    "        N, r, _ = X.shape\n",
    "        \n",
    "        hand = X[:,0]\n",
    "        flop = X[:,1]\n",
    "        turn = X[:,2]\n",
    "        river = X[:,3]\n",
    "        \n",
    "        # now we can pass through:\n",
    "        hidden, cell = torch.zeros(N, 300, dtype=X.dtype, device=X.device), torch.zeros(N, 300, dtype=X.dtype, device=X.device)\n",
    "        \n",
    "        # first round:\n",
    "        hidden, cell = self.lstm(hand, (hidden,cell))\n",
    "        \n",
    "        # second round:\n",
    "        hidden, cell = self.lstm(flop, (hidden, cell))\n",
    "        \n",
    "        # third round:\n",
    "        hidden, cell = self.lstm(turn, (hidden, cell))\n",
    "        \n",
    "        # fourth round:\n",
    "        hidden, cell = self.lstm(river, (hidden, cell))\n",
    "        \n",
    "        #output:\n",
    "        scores = self.output(hidden)\n",
    "        \n",
    "        if squash:\n",
    "            return self.squash(scores)\n",
    "        \n",
    "        return scores"
   ]
  },
  {
   "cell_type": "code",
   "execution_count": 8,
   "metadata": {},
   "outputs": [],
   "source": [
    "def train_model(X, y, model, epochs = 10, verbose = False):\n",
    "    \"\"\"\n",
    "    Inputs:\n",
    "        X: training tensor of shape (N,52)\n",
    "        y: target tensor of shape (N,1)\n",
    "        model: a torch.nn.Module model\n",
    "        epochs: number of epochs to train\n",
    "        verbose: iterations of epochs to print out (1 for all, False for none)\n",
    "    \"\"\"\n",
    "    optimizer = torch.optim.Adam(model.parameters(), lr = 0.005)\n",
    "    criterion = nn.CrossEntropyLoss()\n",
    "    \n",
    "    for e in range(epochs):\n",
    "        scores = model(X)\n",
    "        loss = criterion(scores, y)\n",
    "        with torch.no_grad():\n",
    "            optimizer.zero_grad()\n",
    "            loss.backward()\n",
    "            optimizer.step()\n",
    "            if verbose and e%verbose == 0:\n",
    "                print(\"epoch: {} loss: {:.4f}\".format(e,loss.item()))\n",
    "                \n",
    "def evaluate_model(X, y, model):\n",
    "    with torch.no_grad():\n",
    "        scores = model(X)\n",
    "        #threshold for predictions\n",
    "        scores[scores < 0.5] = 0\n",
    "        scores[scores >= 0.5] = 1\n",
    "        return (scores == y).sum().item()/y.shape[0]"
   ]
  },
  {
   "cell_type": "code",
   "execution_count": 169,
   "metadata": {},
   "outputs": [],
   "source": [
    "# WARNING THIS TAKES A LONG TIME\n",
    "X_train, y_train = make_staged_games(30000, 'cuda')"
   ]
  },
  {
   "cell_type": "code",
   "execution_count": 170,
   "metadata": {},
   "outputs": [],
   "source": [
    "X_test, y_test = make_staged_games(1000, 'cuda')"
   ]
  },
  {
   "cell_type": "code",
   "execution_count": 171,
   "metadata": {},
   "outputs": [],
   "source": [
    "model = simpleLSTM().to('cuda')"
   ]
  },
  {
   "cell_type": "code",
   "execution_count": 186,
   "metadata": {},
   "outputs": [
    {
     "name": "stdout",
     "output_type": "stream",
     "text": [
      "epoch: 0 loss: 0.5587\n",
      "epoch: 100 loss: 0.6666\n",
      "epoch: 200 loss: 0.6477\n",
      "epoch: 300 loss: 0.6878\n",
      "epoch: 400 loss: 0.6623\n"
     ]
    }
   ],
   "source": [
    "train_model(X_train, y_train, model, 500, 100)"
   ]
  },
  {
   "cell_type": "code",
   "execution_count": 187,
   "metadata": {},
   "outputs": [],
   "source": [
    "out = model(X_test, True)"
   ]
  },
  {
   "cell_type": "code",
   "execution_count": 188,
   "metadata": {},
   "outputs": [],
   "source": [
    "out = out.argmax(1)"
   ]
  },
  {
   "cell_type": "code",
   "execution_count": 189,
   "metadata": {},
   "outputs": [
    {
     "data": {
      "text/plain": [
       "0.629"
      ]
     },
     "execution_count": 189,
     "metadata": {},
     "output_type": "execute_result"
    }
   ],
   "source": [
    "(out == y_test).sum().item()/y_test.shape[0]"
   ]
  },
  {
   "cell_type": "code",
   "execution_count": 190,
   "metadata": {},
   "outputs": [],
   "source": [
    "import pickle"
   ]
  },
  {
   "cell_type": "code",
   "execution_count": 192,
   "metadata": {},
   "outputs": [],
   "source": [
    "with open('deepLearning/lstmTrain.pkl', 'wb') as f:\n",
    "    pickle.dump(X_train, f)"
   ]
  },
  {
   "cell_type": "code",
   "execution_count": 193,
   "metadata": {},
   "outputs": [],
   "source": [
    "with open('deepLearning/lstmTrain_y.pkl', 'wb') as f:\n",
    "    pickle.dump(y_train, f)"
   ]
  },
  {
   "cell_type": "markdown",
   "metadata": {},
   "source": [
    "# Constant Loss experiments"
   ]
  },
  {
   "cell_type": "markdown",
   "metadata": {},
   "source": [
    "We're going to have our model make a many-to-many predictions for each round of the betting.\n",
    "\n",
    "We're going to arbitrarily set the loss penalty to be: `1,2,3,4` corresponding with each round of betting "
   ]
  },
  {
   "cell_type": "code",
   "execution_count": 6,
   "metadata": {},
   "outputs": [],
   "source": [
    "class sequenceLSTM(nn.Module):\n",
    "    \"\"\"\n",
    "    A sequence LSTM for choosing to call per round\n",
    "    \"\"\"\n",
    "    def init_weights(m):\n",
    "        if type(m) == torch.nn.LSTMCell:\n",
    "            torch.nn.init.normal_(m.weight_hh)\n",
    "            torch.nn.init.normal_(m.weight_ih)\n",
    "            torch.nn.init.normal_(m.bias_hh)\n",
    "            torch.nn.init.normal_(m.bias_ih)\n",
    "        elif type(m) != torch.nn.Sigmoid and type(m) != sequenceLSTM:\n",
    "            torch.nn.init.normal_(m.weight)\n",
    "            torch.nn.init.normal_(m.bias)\n",
    "    \n",
    "    def __init__(self):\n",
    "        super().__init__()\n",
    "        self.hidden_size = 300\n",
    "        self.lstm = nn.LSTMCell(52, self.hidden_size)\n",
    "        self.output = nn.Linear(self.hidden_size, 2)\n",
    "        self.squash = nn.Sigmoid()\n",
    "        self.penalty = [1,2,3,4]\n",
    "        self.apply(sequenceLSTM.init_weights)\n",
    "    \n",
    "    def forward(self, X): \n",
    "        \"\"\"\n",
    "        X is of shape N, 4, 52\n",
    "        returns a tensor of shape (4) where 0 indicates staying in and 1 indicates folding\n",
    "        \"\"\"\n",
    "        N, _, _ = X.shape\n",
    "        hand = X[:, 0]\n",
    "        flop = X[:, 1]\n",
    "        turn = X[:, 2]\n",
    "        river = X[:, 3]\n",
    "        out = []\n",
    "        \n",
    "        # now each of the objects above is of shape Nx52\n",
    "        hidden, cell = torch.zeros(N, 300, dtype=X.dtype, device=X.device, requires_grad=True), torch.zeros(N, 300, dtype=X.dtype, device=X.device, requires_grad=True)\n",
    "        \n",
    "        #pre-flop:\n",
    "        hidden, cell = self.lstm(hand, (hidden, cell))\n",
    "        score = self.squash(self.output(hidden))\n",
    "        out.append(score)\n",
    "        \n",
    "        #flop:\n",
    "        hidden, cell = self.lstm(flop, (hidden, cell))\n",
    "        score = self.squash(self.output(hidden))\n",
    "        out.append(score)\n",
    "        \n",
    "        #turn:\n",
    "        hidden, cell = self.lstm(turn, (hidden, cell))\n",
    "        score = self.squash(self.output(hidden))\n",
    "        out.append(score)\n",
    "        \n",
    "        #river:\n",
    "        hidden, cell = self.lstm(river, (hidden, cell))\n",
    "        score = self.squash(self.output(hidden))\n",
    "        out.append(score)\n",
    "        \n",
    "        return torch.stack(out, 1) #should be of shape Nx4\n",
    "    \n",
    "    def calc_loss(self, X, y, mode = 'house'):\n",
    "        if mode != 'house' and mode != 'player':\n",
    "            raise Exception(\"mode must be of type {} or {}\".format('house', 'player'))\n",
    "        output = self.forward(X) # of shape Nx4\n",
    "#         loss = torch.tensor(0, requires_grad = True, dtype = X.dtype)\n",
    "        # transform the score checker\n",
    "#         winners = ((y * -2) + 1).to(torch.float, 'cuda') # can't do this inplace because of the computational graph for autograd\n",
    "        scoring = torch.tensor([1,2,3,4]).reshape(-1,4).to('cuda')\n",
    "        scoring = ((y * -2) + 1).to(torch.float).reshape(-1, 1) * scoring\n",
    "        # now lets fix the output by padding the ones for ordering\n",
    "#         output[output[:,0]==1] = 1\n",
    "#         output[output[:,1]==1] = 1\n",
    "#         output[output[:,2]==1] = 1\n",
    "#         output = output * -1 + 1\n",
    "        \n",
    "        loss = (output*scoring.unsqueeze(2)).sum()\n",
    "        \n",
    "        # this part is not differntiable -- reparam with multiplication instead.\n",
    "#         loss = ((winners[output[:,0]==0].sum() * 1) + \n",
    "#                 (winners[output[:,1]==0].sum() * 2) +  \n",
    "#                 (winners[output[:,2]==0].sum() * 3) + \n",
    "#                 (winners[output[:,3]==0].sum() * 4))\n",
    "        \n",
    "        return loss"
   ]
  },
  {
   "cell_type": "code",
   "execution_count": 7,
   "metadata": {},
   "outputs": [],
   "source": [
    "X_train, y_train = utils.make_staged_games(1000, 'cuda')"
   ]
  },
  {
   "cell_type": "code",
   "execution_count": 8,
   "metadata": {},
   "outputs": [],
   "source": [
    "seq = sequenceLSTM().to('cuda')"
   ]
  },
  {
   "cell_type": "code",
   "execution_count": 9,
   "metadata": {},
   "outputs": [],
   "source": [
    "def train_sequence(X, y, model, epochs = 10, verbose = False):\n",
    "    \"\"\"\n",
    "    Inputs:\n",
    "        X: training tensor of shape (N,52)\n",
    "        y: target tensor of shape (N,1)\n",
    "        model: a torch.nn.Module model\n",
    "        epochs: number of epochs to train\n",
    "        verbose: iterations of epochs to print out (1 for all, False for none)\n",
    "    \"\"\"\n",
    "    optimizer = torch.optim.Adam(model.parameters(), lr = 0.005)\n",
    "    \n",
    "    for e in range(epochs):\n",
    "        loss = model.calc_loss(X, y)\n",
    "        with torch.no_grad():\n",
    "            optimizer.zero_grad()\n",
    "            loss.backward()\n",
    "            optimizer.step()\n",
    "            if verbose and e%verbose == 0:\n",
    "                print(\"epoch: {} loss: {:.4f}\".format(e,loss.item()))"
   ]
  },
  {
   "cell_type": "code",
   "execution_count": 10,
   "metadata": {},
   "outputs": [
    {
     "name": "stdout",
     "output_type": "stream",
     "text": [
      "epoch: 0 loss: 76.8632\n",
      "epoch: 1 loss: -1321.6620\n",
      "epoch: 2 loss: -2138.6997\n",
      "epoch: 3 loss: -2708.9937\n",
      "epoch: 4 loss: -3164.9229\n",
      "epoch: 5 loss: -3581.3811\n",
      "epoch: 6 loss: -3942.7563\n",
      "epoch: 7 loss: -4243.6387\n",
      "epoch: 8 loss: -4532.1318\n",
      "epoch: 9 loss: -4802.6689\n",
      "epoch: 10 loss: -5035.4102\n",
      "epoch: 11 loss: -5244.4590\n",
      "epoch: 12 loss: -5428.1782\n",
      "epoch: 13 loss: -5602.4834\n",
      "epoch: 14 loss: -5761.4717\n",
      "epoch: 15 loss: -5911.5962\n",
      "epoch: 16 loss: -6049.0806\n",
      "epoch: 17 loss: -6176.6885\n",
      "epoch: 18 loss: -6305.0684\n",
      "epoch: 19 loss: -6429.3896\n",
      "epoch: 20 loss: -6543.5283\n",
      "epoch: 21 loss: -6651.5112\n",
      "epoch: 22 loss: -6753.8369\n",
      "epoch: 23 loss: -6859.4717\n",
      "epoch: 24 loss: -6966.1348\n",
      "epoch: 25 loss: -7060.6289\n",
      "epoch: 26 loss: -7137.5117\n",
      "epoch: 27 loss: -7217.9126\n",
      "epoch: 28 loss: -7300.5801\n",
      "epoch: 29 loss: -7374.1094\n",
      "epoch: 30 loss: -7441.8174\n",
      "epoch: 31 loss: -7505.8945\n",
      "epoch: 32 loss: -7570.8799\n",
      "epoch: 33 loss: -7633.2637\n",
      "epoch: 34 loss: -7692.1680\n",
      "epoch: 35 loss: -7746.9033\n",
      "epoch: 36 loss: -7793.3701\n",
      "epoch: 37 loss: -7834.6357\n",
      "epoch: 38 loss: -7875.3662\n",
      "epoch: 39 loss: -7912.9092\n",
      "epoch: 40 loss: -7954.2065\n",
      "epoch: 41 loss: -7992.5986\n",
      "epoch: 42 loss: -8029.0547\n",
      "epoch: 43 loss: -8067.5195\n",
      "epoch: 44 loss: -8104.0498\n",
      "epoch: 45 loss: -8139.6260\n",
      "epoch: 46 loss: -8179.3735\n",
      "epoch: 47 loss: -8218.5547\n",
      "epoch: 48 loss: -8257.7988\n",
      "epoch: 49 loss: -8294.9863\n"
     ]
    }
   ],
   "source": [
    "train_sequence(X_train, y_train, seq, 50, True)"
   ]
  },
  {
   "cell_type": "code",
   "execution_count": 73,
   "metadata": {},
   "outputs": [
    {
     "data": {
      "text/plain": [
       "tensor([29, 51], device='cuda:0')"
      ]
     },
     "execution_count": 73,
     "metadata": {},
     "output_type": "execute_result"
    }
   ],
   "source": [
    "X_train[0][0].nonzero().reshape(-1)"
   ]
  },
  {
   "cell_type": "code",
   "execution_count": 82,
   "metadata": {},
   "outputs": [
    {
     "data": {
      "text/plain": [
       "(tensor([0, 0, 0, 0, 0, 0, 0, 1, 1, 1, 1, 1, 1, 1], device='cuda:0'),\n",
       " tensor([0, 0, 1, 1, 1, 2, 3, 0, 0, 1, 1, 1, 2, 3], device='cuda:0'),\n",
       " tensor([29, 51,  8, 13, 27,  6,  4, 38, 48,  8, 13, 27,  6,  4],\n",
       "        device='cuda:0'))"
      ]
     },
     "execution_count": 82,
     "metadata": {},
     "output_type": "execute_result"
    }
   ],
   "source": [
    "X_train[:2].nonzero(as_tuple=True)"
   ]
  },
  {
   "cell_type": "code",
   "execution_count": 83,
   "metadata": {},
   "outputs": [
    {
     "data": {
      "text/plain": [
       "torch.Size([2, 4, 52])"
      ]
     },
     "execution_count": 83,
     "metadata": {},
     "output_type": "execute_result"
    }
   ],
   "source": [
    "X_train[:2].shape"
   ]
  },
  {
   "cell_type": "code",
   "execution_count": 87,
   "metadata": {},
   "outputs": [
    {
     "data": {
      "text/plain": [
       "(tensor([0, 0, 1, 1, 1, 2, 3, 4, 4, 5, 5, 5, 6, 7], device='cuda:0'),\n",
       " tensor([29, 51,  8, 13, 27,  6,  4, 38, 48,  8, 13, 27,  6,  4],\n",
       "        device='cuda:0'))"
      ]
     },
     "execution_count": 87,
     "metadata": {},
     "output_type": "execute_result"
    }
   ],
   "source": [
    "X_train[:2].reshape(-1,52).nonzero(as_tuple=True)"
   ]
  },
  {
   "cell_type": "code",
   "execution_count": 97,
   "metadata": {},
   "outputs": [
    {
     "data": {
      "text/plain": [
       "[29, 51, 8, 13, 27, 6, 4]"
      ]
     },
     "execution_count": 97,
     "metadata": {},
     "output_type": "execute_result"
    }
   ],
   "source": [
    "X_train[0].nonzero(as_tuple=True)[1].tolist()"
   ]
  },
  {
   "cell_type": "code",
   "execution_count": 18,
   "metadata": {},
   "outputs": [
    {
     "ename": "TypeError",
     "evalue": "unsupported operand type(s) for >>: 'list' and 'int'",
     "output_type": "error",
     "traceback": [
      "\u001b[0;31m---------------------------------------------------------------------------\u001b[0m",
      "\u001b[0;31mTypeError\u001b[0m                                 Traceback (most recent call last)",
      "\u001b[0;32m<ipython-input-18-fe68b61d1461>\u001b[0m in \u001b[0;36m<module>\u001b[0;34m\u001b[0m\n\u001b[0;32m----> 1\u001b[0;31m \u001b[0mCard\u001b[0m\u001b[0;34m.\u001b[0m\u001b[0mprint_pretty_card\u001b[0m\u001b[0;34m(\u001b[0m\u001b[0mutils\u001b[0m\u001b[0;34m.\u001b[0m\u001b[0munwrap_game\u001b[0m\u001b[0;34m(\u001b[0m\u001b[0mX_train\u001b[0m\u001b[0;34m[\u001b[0m\u001b[0;34m:\u001b[0m\u001b[0;36m5\u001b[0m\u001b[0;34m]\u001b[0m\u001b[0;34m,\u001b[0m \u001b[0;32mTrue\u001b[0m\u001b[0;34m)\u001b[0m\u001b[0;34m[\u001b[0m\u001b[0;36m0\u001b[0m\u001b[0;34m]\u001b[0m\u001b[0;34m)\u001b[0m\u001b[0;34m\u001b[0m\u001b[0;34m\u001b[0m\u001b[0m\n\u001b[0m",
      "\u001b[0;32m~/.pyenv/versions/3.8.6/envs/dev/lib/python3.8/site-packages/treys/card.py\u001b[0m in \u001b[0;36mprint_pretty_card\u001b[0;34m(card_int)\u001b[0m\n\u001b[1;32m    197\u001b[0m         \u001b[0mExpects\u001b[0m \u001b[0ma\u001b[0m \u001b[0msingle\u001b[0m \u001b[0minteger\u001b[0m \u001b[0;32mas\u001b[0m \u001b[0minput\u001b[0m\u001b[0;34m\u001b[0m\u001b[0;34m\u001b[0m\u001b[0m\n\u001b[1;32m    198\u001b[0m         \"\"\"\n\u001b[0;32m--> 199\u001b[0;31m         \u001b[0;32mreturn\u001b[0m \u001b[0mCard\u001b[0m\u001b[0;34m.\u001b[0m\u001b[0mint_to_pretty_str\u001b[0m\u001b[0;34m(\u001b[0m\u001b[0mcard_int\u001b[0m\u001b[0;34m)\u001b[0m\u001b[0;34m\u001b[0m\u001b[0;34m\u001b[0m\u001b[0m\n\u001b[0m\u001b[1;32m    200\u001b[0m \u001b[0;34m\u001b[0m\u001b[0m\n\u001b[1;32m    201\u001b[0m     \u001b[0;34m@\u001b[0m\u001b[0mstaticmethod\u001b[0m\u001b[0;34m\u001b[0m\u001b[0;34m\u001b[0m\u001b[0m\n",
      "\u001b[0;32m~/.pyenv/versions/3.8.6/envs/dev/lib/python3.8/site-packages/treys/card.py\u001b[0m in \u001b[0;36mint_to_pretty_str\u001b[0;34m(card_int)\u001b[0m\n\u001b[1;32m    180\u001b[0m \u001b[0;34m\u001b[0m\u001b[0m\n\u001b[1;32m    181\u001b[0m         \u001b[0;31m# suit and rank\u001b[0m\u001b[0;34m\u001b[0m\u001b[0;34m\u001b[0m\u001b[0;34m\u001b[0m\u001b[0m\n\u001b[0;32m--> 182\u001b[0;31m         \u001b[0msuit_int\u001b[0m \u001b[0;34m=\u001b[0m \u001b[0mCard\u001b[0m\u001b[0;34m.\u001b[0m\u001b[0mget_suit_int\u001b[0m\u001b[0;34m(\u001b[0m\u001b[0mcard_int\u001b[0m\u001b[0;34m)\u001b[0m\u001b[0;34m\u001b[0m\u001b[0;34m\u001b[0m\u001b[0m\n\u001b[0m\u001b[1;32m    183\u001b[0m         \u001b[0mrank_int\u001b[0m \u001b[0;34m=\u001b[0m \u001b[0mCard\u001b[0m\u001b[0;34m.\u001b[0m\u001b[0mget_rank_int\u001b[0m\u001b[0;34m(\u001b[0m\u001b[0mcard_int\u001b[0m\u001b[0;34m)\u001b[0m\u001b[0;34m\u001b[0m\u001b[0;34m\u001b[0m\u001b[0m\n\u001b[1;32m    184\u001b[0m \u001b[0;34m\u001b[0m\u001b[0m\n",
      "\u001b[0;32m~/.pyenv/versions/3.8.6/envs/dev/lib/python3.8/site-packages/treys/card.py\u001b[0m in \u001b[0;36mget_suit_int\u001b[0;34m(card_int)\u001b[0m\n\u001b[1;32m     84\u001b[0m     \u001b[0;34m@\u001b[0m\u001b[0mstaticmethod\u001b[0m\u001b[0;34m\u001b[0m\u001b[0;34m\u001b[0m\u001b[0m\n\u001b[1;32m     85\u001b[0m     \u001b[0;32mdef\u001b[0m \u001b[0mget_suit_int\u001b[0m\u001b[0;34m(\u001b[0m\u001b[0mcard_int\u001b[0m\u001b[0;34m)\u001b[0m\u001b[0;34m:\u001b[0m\u001b[0;34m\u001b[0m\u001b[0;34m\u001b[0m\u001b[0m\n\u001b[0;32m---> 86\u001b[0;31m         \u001b[0;32mreturn\u001b[0m \u001b[0;34m(\u001b[0m\u001b[0mcard_int\u001b[0m \u001b[0;34m>>\u001b[0m \u001b[0;36m12\u001b[0m\u001b[0;34m)\u001b[0m \u001b[0;34m&\u001b[0m \u001b[0;36m0xF\u001b[0m\u001b[0;34m\u001b[0m\u001b[0;34m\u001b[0m\u001b[0m\n\u001b[0m\u001b[1;32m     87\u001b[0m \u001b[0;34m\u001b[0m\u001b[0m\n\u001b[1;32m     88\u001b[0m     \u001b[0;34m@\u001b[0m\u001b[0mstaticmethod\u001b[0m\u001b[0;34m\u001b[0m\u001b[0;34m\u001b[0m\u001b[0m\n",
      "\u001b[0;31mTypeError\u001b[0m: unsupported operand type(s) for >>: 'list' and 'int'"
     ]
    }
   ],
   "source": [
    "Card.print_pretty_card(utils.unwrap_game(X_train[:5], True)[0])"
   ]
  },
  {
   "cell_type": "code",
   "execution_count": 22,
   "metadata": {},
   "outputs": [
    {
     "data": {
      "text/plain": [
       "2131213"
      ]
     },
     "execution_count": 22,
     "metadata": {},
     "output_type": "execute_result"
    }
   ],
   "source": [
    "utils.unwrap_game(X_train[:5], True)[0][0]"
   ]
  },
  {
   "cell_type": "code",
   "execution_count": 38,
   "metadata": {},
   "outputs": [],
   "source": [
    "game = utils.unwrap_game(X_train,True)"
   ]
  },
  {
   "cell_type": "code",
   "execution_count": 40,
   "metadata": {},
   "outputs": [
    {
     "data": {
      "text/plain": [
       "[2131213, 16812055, 147715, 279045, 1057803, 2102541, 268442665]"
      ]
     },
     "execution_count": 40,
     "metadata": {},
     "output_type": "execute_result"
    }
   ],
   "source": [
    "def "
   ]
  },
  {
   "cell_type": "code",
   "execution_count": 44,
   "metadata": {},
   "outputs": [
    {
     "data": {
      "text/plain": [
       "tensor([[0, 0, 1, 0],\n",
       "        [1, 0, 0, 0]], device='cuda:0')"
      ]
     },
     "execution_count": 44,
     "metadata": {},
     "output_type": "execute_result"
    }
   ],
   "source": [
    "seq(X_train[:2]).argmax(2)"
   ]
  },
  {
   "cell_type": "code",
   "execution_count": 46,
   "metadata": {},
   "outputs": [
    {
     "data": {
      "text/plain": [
       "' [7♣],[T♣],[3♦],[4♦],[6♥],[7♠],[A♠] '"
      ]
     },
     "execution_count": 46,
     "metadata": {},
     "output_type": "execute_result"
    }
   ],
   "source": [
    "Card.print_pretty_cards(game[0])"
   ]
  },
  {
   "cell_type": "code",
   "execution_count": 83,
   "metadata": {},
   "outputs": [],
   "source": [
    "player1, bot, board = utils.make_heads_up()\n",
    "player1 = utils.make_treys(player1)\n",
    "board_treys = utils.make_treys(board)\n"
   ]
  },
  {
   "cell_type": "code",
   "execution_count": 58,
   "metadata": {},
   "outputs": [
    {
     "data": {
      "text/plain": [
       "' [J♥],[8♦] '"
      ]
     },
     "execution_count": 58,
     "metadata": {},
     "output_type": "execute_result"
    }
   ],
   "source": [
    "Card.print_pretty_cards(player1)"
   ]
  },
  {
   "cell_type": "code",
   "execution_count": 62,
   "metadata": {},
   "outputs": [
    {
     "name": "stdout",
     "output_type": "stream",
     "text": [
      "Cards  [J♥],[8♦]  \n"
     ]
    }
   ],
   "source": [
    "print('Cards {} '.format(Card.print_pretty_cards(player1)))"
   ]
  },
  {
   "cell_type": "code",
   "execution_count": 54,
   "metadata": {},
   "outputs": [
    {
     "name": "stdin",
     "output_type": "stream",
     "text": [
      "Betting costs 1 1 for YES, other for NO 1\n"
     ]
    },
    {
     "data": {
      "text/plain": [
       "'1'"
      ]
     },
     "execution_count": 54,
     "metadata": {},
     "output_type": "execute_result"
    }
   ],
   "source": [
    "input(\"Betting costs {} 1 for YES, other for NO\".format(1))"
   ]
  },
  {
   "cell_type": "code",
   "execution_count": 84,
   "metadata": {},
   "outputs": [],
   "source": [
    "bot_encoded = torch.stack([utils.one_hot_cards(bot), utils.one_hot_cards(board[:3]), utils.one_hot_cards([board[3]]), utils.one_hot_cards([board[4]])]).unsqueeze(0).to('cuda')"
   ]
  },
  {
   "cell_type": "code",
   "execution_count": 87,
   "metadata": {},
   "outputs": [
    {
     "data": {
      "text/plain": [
       "torch.Size([1, 4, 52])"
      ]
     },
     "execution_count": 87,
     "metadata": {},
     "output_type": "execute_result"
    }
   ],
   "source": [
    "bot_encoded.shape"
   ]
  },
  {
   "cell_type": "code",
   "execution_count": 88,
   "metadata": {},
   "outputs": [],
   "source": [
    "bot_bets = seq.forward(bot_encoded).argmax(2).squeeze()"
   ]
  },
  {
   "cell_type": "code",
   "execution_count": 93,
   "metadata": {},
   "outputs": [
    {
     "data": {
      "text/plain": [
       "tensor([0, 1, 0, 0], device='cuda:0')"
      ]
     },
     "execution_count": 93,
     "metadata": {},
     "output_type": "execute_result"
    }
   ],
   "source": [
    "bot_bets.argmax(2).squeeze()"
   ]
  },
  {
   "cell_type": "code",
   "execution_count": 101,
   "metadata": {},
   "outputs": [
    {
     "data": {
      "text/plain": [
       "['8s', '7s', 'Jc']"
      ]
     },
     "execution_count": 101,
     "metadata": {},
     "output_type": "execute_result"
    }
   ],
   "source": [
    "board[:3]"
   ]
  },
  {
   "cell_type": "code",
   "execution_count": 99,
   "metadata": {},
   "outputs": [
    {
     "ename": "TypeError",
     "evalue": "unsupported operand type(s) for >>: 'list' and 'int'",
     "output_type": "error",
     "traceback": [
      "\u001b[0;31m---------------------------------------------------------------------------\u001b[0m",
      "\u001b[0;31mTypeError\u001b[0m                                 Traceback (most recent call last)",
      "\u001b[0;32m<ipython-input-99-d53f9423041f>\u001b[0m in \u001b[0;36m<module>\u001b[0;34m\u001b[0m\n\u001b[0;32m----> 1\u001b[0;31m \u001b[0mCard\u001b[0m\u001b[0;34m.\u001b[0m\u001b[0mprint_pretty_card\u001b[0m\u001b[0;34m(\u001b[0m\u001b[0mboard\u001b[0m\u001b[0;34m[\u001b[0m\u001b[0;34m:\u001b[0m\u001b[0;36m3\u001b[0m\u001b[0;34m]\u001b[0m\u001b[0;34m)\u001b[0m\u001b[0;34m\u001b[0m\u001b[0;34m\u001b[0m\u001b[0m\n\u001b[0m",
      "\u001b[0;32m~/.pyenv/versions/3.8.6/envs/dev/lib/python3.8/site-packages/treys/card.py\u001b[0m in \u001b[0;36mprint_pretty_card\u001b[0;34m(card_int)\u001b[0m\n\u001b[1;32m    197\u001b[0m         \u001b[0mExpects\u001b[0m \u001b[0ma\u001b[0m \u001b[0msingle\u001b[0m \u001b[0minteger\u001b[0m \u001b[0;32mas\u001b[0m \u001b[0minput\u001b[0m\u001b[0;34m\u001b[0m\u001b[0;34m\u001b[0m\u001b[0m\n\u001b[1;32m    198\u001b[0m         \"\"\"\n\u001b[0;32m--> 199\u001b[0;31m         \u001b[0;32mreturn\u001b[0m \u001b[0mCard\u001b[0m\u001b[0;34m.\u001b[0m\u001b[0mint_to_pretty_str\u001b[0m\u001b[0;34m(\u001b[0m\u001b[0mcard_int\u001b[0m\u001b[0;34m)\u001b[0m\u001b[0;34m\u001b[0m\u001b[0;34m\u001b[0m\u001b[0m\n\u001b[0m\u001b[1;32m    200\u001b[0m \u001b[0;34m\u001b[0m\u001b[0m\n\u001b[1;32m    201\u001b[0m     \u001b[0;34m@\u001b[0m\u001b[0mstaticmethod\u001b[0m\u001b[0;34m\u001b[0m\u001b[0;34m\u001b[0m\u001b[0m\n",
      "\u001b[0;32m~/.pyenv/versions/3.8.6/envs/dev/lib/python3.8/site-packages/treys/card.py\u001b[0m in \u001b[0;36mint_to_pretty_str\u001b[0;34m(card_int)\u001b[0m\n\u001b[1;32m    180\u001b[0m \u001b[0;34m\u001b[0m\u001b[0m\n\u001b[1;32m    181\u001b[0m         \u001b[0;31m# suit and rank\u001b[0m\u001b[0;34m\u001b[0m\u001b[0;34m\u001b[0m\u001b[0;34m\u001b[0m\u001b[0m\n\u001b[0;32m--> 182\u001b[0;31m         \u001b[0msuit_int\u001b[0m \u001b[0;34m=\u001b[0m \u001b[0mCard\u001b[0m\u001b[0;34m.\u001b[0m\u001b[0mget_suit_int\u001b[0m\u001b[0;34m(\u001b[0m\u001b[0mcard_int\u001b[0m\u001b[0;34m)\u001b[0m\u001b[0;34m\u001b[0m\u001b[0;34m\u001b[0m\u001b[0m\n\u001b[0m\u001b[1;32m    183\u001b[0m         \u001b[0mrank_int\u001b[0m \u001b[0;34m=\u001b[0m \u001b[0mCard\u001b[0m\u001b[0;34m.\u001b[0m\u001b[0mget_rank_int\u001b[0m\u001b[0;34m(\u001b[0m\u001b[0mcard_int\u001b[0m\u001b[0;34m)\u001b[0m\u001b[0;34m\u001b[0m\u001b[0;34m\u001b[0m\u001b[0m\n\u001b[1;32m    184\u001b[0m \u001b[0;34m\u001b[0m\u001b[0m\n",
      "\u001b[0;32m~/.pyenv/versions/3.8.6/envs/dev/lib/python3.8/site-packages/treys/card.py\u001b[0m in \u001b[0;36mget_suit_int\u001b[0;34m(card_int)\u001b[0m\n\u001b[1;32m     84\u001b[0m     \u001b[0;34m@\u001b[0m\u001b[0mstaticmethod\u001b[0m\u001b[0;34m\u001b[0m\u001b[0;34m\u001b[0m\u001b[0m\n\u001b[1;32m     85\u001b[0m     \u001b[0;32mdef\u001b[0m \u001b[0mget_suit_int\u001b[0m\u001b[0;34m(\u001b[0m\u001b[0mcard_int\u001b[0m\u001b[0;34m)\u001b[0m\u001b[0;34m:\u001b[0m\u001b[0;34m\u001b[0m\u001b[0;34m\u001b[0m\u001b[0m\n\u001b[0;32m---> 86\u001b[0;31m         \u001b[0;32mreturn\u001b[0m \u001b[0;34m(\u001b[0m\u001b[0mcard_int\u001b[0m \u001b[0;34m>>\u001b[0m \u001b[0;36m12\u001b[0m\u001b[0;34m)\u001b[0m \u001b[0;34m&\u001b[0m \u001b[0;36m0xF\u001b[0m\u001b[0;34m\u001b[0m\u001b[0;34m\u001b[0m\u001b[0m\n\u001b[0m\u001b[1;32m     87\u001b[0m \u001b[0;34m\u001b[0m\u001b[0m\n\u001b[1;32m     88\u001b[0m     \u001b[0;34m@\u001b[0m\u001b[0mstaticmethod\u001b[0m\u001b[0;34m\u001b[0m\u001b[0;34m\u001b[0m\u001b[0m\n",
      "\u001b[0;31mTypeError\u001b[0m: unsupported operand type(s) for >>: 'list' and 'int'"
     ]
    }
   ],
   "source": [
    "Card.print_pretty_card(board[:3])"
   ]
  },
  {
   "cell_type": "code",
   "execution_count": 117,
   "metadata": {},
   "outputs": [],
   "source": [
    "def play_game(score):\n",
    "    player1, bot, board = utils.make_heads_up()\n",
    "    bot_treys = utils.make_treys(bot)\n",
    "    player1 = utils.make_treys(player1)\n",
    "    board_treys = utils.make_treys(board)\n",
    "    print(\"Your Cards:{} \".format(Card.print_pretty_cards(player1)))\n",
    "    bot_encoded = torch.stack([utils.one_hot_cards(bot), utils.one_hot_cards(board[:3]), utils.one_hot_cards([board[3]]), utils.one_hot_cards([board[4]])]).unsqueeze(0).to('cuda')\n",
    "    bot_bets = seq.forward(bot_encoded).argmax(2).squeeze()\n",
    "    bet = input(\"It costs 1 to call (y/n)\")\n",
    "    if bet != 'y':\n",
    "        print(\"You folded and lost 0.\")\n",
    "        return\n",
    "    if bot_bets[0] == 1:\n",
    "        print(\"Bot folded with {} you win 0\".format(Card.print_pretty_cards(utils.make_treys(bot))))\n",
    "        return\n",
    "    print(\"Bot calls 1. Pot is 2\")\n",
    "    print(\"Flop:{}\".format(Card.print_pretty_cards(board_treys[:3])))\n",
    "    # flop bet\n",
    "    if bot_bets[1] == 0:\n",
    "        print(\"Bot raises 2\")\n",
    "    else:\n",
    "        print(\"Bot folds with {} you win 1!\".format(Card.print_pretty_cards(utils.make_treys(bot))))\n",
    "        return\n",
    "    bet = input(\"It costs 2 to call (y/n)\")\n",
    "    if bet != 'y':\n",
    "        print(\"You lost 1 token\")\n",
    "        return\n",
    "    #turn bet\n",
    "    print(\"Turn:{}\".format(Card.print_pretty_card(board_treys[3])))\n",
    "    bet = input(\"Pot is 6. It is 3 to call (y/n)\")\n",
    "    if bet!= 'y':\n",
    "        print(\"You lost 3 tokens\")\n",
    "        return\n",
    "    if bot_bets[2] == 0:\n",
    "        print(\"Bot calls 3. Pot is now 12.\")\n",
    "    else:\n",
    "        print(\"Bot folds with {} You win a pot worth 6 tokens.\".format(Card.print_pretty_cards(utils.make_treys(bot))))\n",
    "        return\n",
    "    #river bet\n",
    "    print(\"River:{}\".format(Card.print_pretty_card(board_treys[4])))\n",
    "    if bot_bets[3] == 0:\n",
    "        print(\"Bot raises 4. Pot is now 20.\")\n",
    "    else:\n",
    "        print(\"Bot folds with You win a pot worth 12 tokens.\".format(Card.print_pretty_cards(utils.make_treys(bot))))\n",
    "        return\n",
    "    bet = input(\"It is 4 to call (y/n)\")\n",
    "    if bet != 'y':\n",
    "        print(\"You've lost 6 tokens.\")\n",
    "        return    \n",
    "    e = Evaluator()\n",
    "    if e.evaluate(board_treys, player1) < e.evaluate(board_treys, bot_treys):\n",
    "        print(\"You win a pot of 20!\\nYour hand was:{}\\nBot hand was:{}\\nBoard was{}\".format(Card.print_pretty_cards(player1), Card.print_pretty_cards(bot_treys), Card.print_pretty_cards(board_treys)))\n",
    "    elif e.evaluate(board_treys, player1) == e.evaluate(board_treys, bot_treys):\n",
    "        print(\"You lose a pot of 20.\\nYour hand was:{}\\nBot hand was:{}\\nBoard was{}\".format(Card.print_pretty_cards(player1), Card.print_pretty_cards(bot_treys), Card.print_pretty_cards(board_treys)))\n",
    "    else:\n",
    "        print(\"You push a pot of 20 taking home 10.\\nYour hand was:{}\\nBot hand was:{}\\nBoard was{}\".format(Card.print_pretty_cards(player1), Card.print_pretty_cards(bot_treys), Card.print_pretty_cards(board_treys)))\n",
    "        \n",
    "        "
   ]
  },
  {
   "cell_type": "code",
   "execution_count": 120,
   "metadata": {},
   "outputs": [
    {
     "name": "stdout",
     "output_type": "stream",
     "text": [
      "Your Cards: [K♣],[8♣]  \n"
     ]
    },
    {
     "name": "stdin",
     "output_type": "stream",
     "text": [
      "It costs 1 to call (y/n) y\n"
     ]
    },
    {
     "name": "stdout",
     "output_type": "stream",
     "text": [
      "Bot calls 1. Pot is 2\n",
      "Flop: [K♠],[4♠],[7♦] \n",
      "Bot folds with  [K♦],[8♦]  you win 1!\n"
     ]
    }
   ],
   "source": [
    "play_game(0)"
   ]
  },
  {
   "cell_type": "code",
   "execution_count": null,
   "metadata": {},
   "outputs": [],
   "source": []
  }
 ],
 "metadata": {
  "kernelspec": {
   "display_name": "Python 3",
   "language": "python",
   "name": "python3"
  },
  "language_info": {
   "codemirror_mode": {
    "name": "ipython",
    "version": 3
   },
   "file_extension": ".py",
   "mimetype": "text/x-python",
   "name": "python",
   "nbconvert_exporter": "python",
   "pygments_lexer": "ipython3",
   "version": "3.8.6"
  }
 },
 "nbformat": 4,
 "nbformat_minor": 4
}
